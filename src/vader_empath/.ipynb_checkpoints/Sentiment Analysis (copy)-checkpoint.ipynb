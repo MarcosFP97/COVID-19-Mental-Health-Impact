{
 "cells": [
  {
   "cell_type": "markdown",
   "id": "fee430b4",
   "metadata": {},
   "source": [
    "# Sentiment Analysis with Vader and Empath"
   ]
  },
  {
   "cell_type": "code",
   "execution_count": 5,
   "id": "cc462d1f",
   "metadata": {},
   "outputs": [],
   "source": [
    "import dask\n",
    "import dask.dataframe as dd\n",
    "import re\n",
    "import numpy as np\n",
    "import pandas as pd\n",
    "import matplotlib.pyplot as plt\n",
    "import math\n",
    "import csv\n",
    "import json\n",
    "from datetime import datetime\n",
    "abs_path = '../../dataset' "
   ]
  },
  {
   "cell_type": "markdown",
   "id": "2b85f18e",
   "metadata": {},
   "source": [
    "**NOTE**: Use this code once you have scraped all tweets from the given links!!!"
   ]
  },
  {
   "cell_type": "code",
   "execution_count": null,
   "id": "ab24409e",
   "metadata": {},
   "outputs": [],
   "source": [
    "# Read CSVs and build up the dataframe for US_DATA\n",
    "tweets_df1 = dd.read_csv(abs_path + '/jan_2021_US.csv',\n",
    "                    # sep = '\\t',  # Use with ES_data\n",
    "                    usecols = ['tweet', 'language', 'date'], \n",
    "                    lineterminator = '\\n')\n",
    "\n",
    "tweets_df1=tweets_df1.loc[tweets_df1['lang']=='es'] # Exclude tweets not written in English #Use 'es' for ES_data \n",
    "tweets_df1=tweets_df1.loc[:, ['date', 'tweet']]"
   ]
  },
  {
   "cell_type": "code",
   "execution_count": 11,
   "id": "652a4ec6",
   "metadata": {},
   "outputs": [],
   "source": [
    "# Cleaning method\n",
    "def tweetClean(tuit):\n",
    "    tuit = str(tuit)\n",
    "    tuit = re.sub('(www|https)[^\\s]+', ' ', tuit)\n",
    "    tuit = re.sub('#', ' ', tuit)\n",
    "    tuit = re.sub('@', ' ', tuit)\n",
    "    return tuit"
   ]
  },
  {
   "attachments": {
    "compound.png": {
     "image/png": "[encoded data removed]"
    }
   },
   "cell_type": "markdown",
   "id": "377fc808",
   "metadata": {},
   "source": [
    "![compound.png](attachment:compound.png)"
   ]
  },
  {
   "cell_type": "markdown",
   "id": "fb0aebd0",
   "metadata": {},
   "source": [
    "### Method definition: \n",
    "Clean for remove undesirables characters in text.  \n",
    "Vader for sentiment analysis.  \n",
    "Empath for topic categorization.  \n",
    "GroupEmpath for grouping tweets by date.  "
   ]
  },
  {
   "cell_type": "code",
   "execution_count": 16,
   "id": "ab883ff9",
   "metadata": {
    "scrolled": true
   },
   "outputs": [
    {
     "name": "stdout",
     "output_type": "stream",
     "text": [
      "Requirement already satisfied: vaderSentiment in /home/marcos.fernandez.pichel/anaconda3/lib/python3.9/site-packages (3.3.2)\n",
      "Collecting empath\n",
      "  Using cached empath-0.89.tar.gz (57 kB)\n",
      "  Preparing metadata (setup.py) ... \u001b[?25ldone\n",
      "\u001b[?25hRequirement already satisfied: requests in /home/marcos.fernandez.pichel/anaconda3/lib/python3.9/site-packages (from vaderSentiment) (2.26.0)\n",
      "Requirement already satisfied: urllib3<1.27,>=1.21.1 in /home/marcos.fernandez.pichel/anaconda3/lib/python3.9/site-packages (from requests->vaderSentiment) (1.26.7)\n",
      "Requirement already satisfied: charset-normalizer~=2.0.0 in /home/marcos.fernandez.pichel/anaconda3/lib/python3.9/site-packages (from requests->vaderSentiment) (2.0.4)\n",
      "Requirement already satisfied: idna<4,>=2.5 in /home/marcos.fernandez.pichel/anaconda3/lib/python3.9/site-packages (from requests->vaderSentiment) (3.2)\n",
      "Requirement already satisfied: certifi>=2017.4.17 in /home/marcos.fernandez.pichel/anaconda3/lib/python3.9/site-packages (from requests->vaderSentiment) (2021.10.8)\n",
      "Building wheels for collected packages: empath\n",
      "  Building wheel for empath (setup.py) ... \u001b[?25ldone\n",
      "\u001b[?25h  Created wheel for empath: filename=empath-0.89-py3-none-any.whl size=57821 sha256=d20f343b5ae09b06b2e1e6106147e6839ab9a718d44c661702cfdbd62011a413\n",
      "  Stored in directory: /home/marcos.fernandez.pichel/.cache/pip/wheels/5b/58/77/7eed8eef4c6be0cca8920ac319d916811537a37407da220bf1\n",
      "Successfully built empath\n",
      "Installing collected packages: empath\n",
      "Successfully installed empath-0.89\n",
      "\u001b[33mWARNING: You are using pip version 22.0.3; however, version 22.3 is available.\n",
      "You should consider upgrading via the '/home/marcos.fernandez.pichel/anaconda3/bin/python -m pip install --upgrade pip' command.\u001b[0m\u001b[33m\n",
      "\u001b[0m"
     ]
    }
   ],
   "source": [
    "!pip install vaderSentiment empath"
   ]
  },
  {
   "cell_type": "code",
   "execution_count": 17,
   "id": "ecb6cce3",
   "metadata": {},
   "outputs": [
    {
     "name": "stdout",
     "output_type": "stream",
     "text": [
      "Thank you cmtrm for this lovely share\n",
      "{'neg': 0.0, 'neu': 0.303, 'pos': 0.697, 'compound': 0.8481}\n",
      "---------------------------------------\n",
      "MidgetTamer Another reason I hate that guy\n",
      "{'neg': 0.381, 'neu': 0.619, 'pos': 0.0, 'compound': -0.5719}\n",
      "---------------------------------------\n",
      "just gunna watch football tonight.\n",
      "{'neg': 0.0, 'neu': 1.0, 'pos': 0.0, 'compound': 0.0}\n"
     ]
    }
   ],
   "source": [
    "from vaderSentiment.vaderSentiment import SentimentIntensityAnalyzer\n",
    "analyzer = SentimentIntensityAnalyzer()\n",
    "tweet=\"Thank you cmtrm for this lovely share\"\n",
    "score = analyzer.polarity_scores(tweet)\n",
    "print(tweet)\n",
    "print(score)\n",
    "print(\"---------------------------------------\")\n",
    "tweet=\"MidgetTamer Another reason I hate that guy\"\n",
    "score = analyzer.polarity_scores(tweet)\n",
    "print(tweet)\n",
    "print(score)\n",
    "print(\"---------------------------------------\")\n",
    "tweet=\"just gunna watch football tonight.\"\n",
    "score = analyzer.polarity_scores(tweet)\n",
    "print(tweet)\n",
    "print(score)"
   ]
  },
  {
   "cell_type": "code",
   "execution_count": 18,
   "id": "063f96c3",
   "metadata": {},
   "outputs": [],
   "source": [
    "from vaderSentiment.vaderSentiment import SentimentIntensityAnalyzer\n",
    "analyzer = SentimentIntensityAnalyzer()\n",
    "from empath import Empath\n",
    "lexicon = Empath()\n",
    "\n",
    "def tweetClean(tuit):\n",
    "    tuit = str(tuit)\n",
    "    tuit = re.sub('(www|https)[^\\s]+', ' ', tuit)\n",
    "    tuit = re.sub('#', ' ', tuit)\n",
    "    tuit = re.sub('@', ' ', tuit)\n",
    "    return tuit\n",
    "\n",
    "def getCompoundAnalysis(tweet):\n",
    "    score = analyzer.polarity_scores(tweet)\n",
    "    if(score['compound'] >= 0.05):\n",
    "        return 'positive'\n",
    "    elif(-0.05 < score['compound'] < 0.05):\n",
    "        return 'neutral'\n",
    "    elif(score['compound'] <= -0.05):\n",
    "        return 'negative'\n",
    "    \n",
    "def getEmpathAnalysis(tweet):\n",
    "    emp = lexicon.analyze(tweet, normalize=True)\n",
    "    res = dict(filter(lambda x: x[1] > 0.0, emp.items()))\n",
    "    return str(res)\n",
    "\n",
    "def groupEmpath(col):\n",
    "    return str(dict(pd.DataFrame(col.tolist()).fillna(0).mean()))"
   ]
  },
  {
   "cell_type": "code",
   "execution_count": 20,
   "id": "342bb1ce",
   "metadata": {},
   "outputs": [],
   "source": [
    "# Cleaning, getting sentiment from Vader, calculating weekdate\n",
    "# Weekdate: First date of the week, used for group results by week.\n",
    "tweets_df1['tweet'] = tweets_df1['tweet'].map(lambda x: tweetClean(x))\n",
    "tweets_df1['sentiment'] = tweets_df1['tweet'].map(lambda x: getCompoundAnalysis(x))\n",
    "tweets_df1['weekdate'] = dd.to_datetime(tweets_df1['date'],format='%Y-%m-%d') - dd.to_datetime(tweets_df1['date'],format='%Y-%m-%d').dt.weekday * np.timedelta64(1,'D')"
   ]
  },
  {
   "cell_type": "code",
   "execution_count": null,
   "id": "cdb228cb",
   "metadata": {},
   "outputs": [
    {
     "name": "stdout",
     "output_type": "stream",
     "text": [
      "2022-11-03 16:13:21.255276\n"
     ]
    }
   ],
   "source": [
    "# Code block for computing and store in a separate file the Empath analysis for each tweet\n",
    "\n",
    "output = (getEmpathAnalysis(tweet) for tweet in tweets_df1['tweet'])\n",
    "print(datetime.now())   \n",
    "countrow = 0\n",
    "countiter = 1\n",
    "with open(abs_path+'/'+'AnalysisEmpath.csv', \"w\") as csv_file:\n",
    "    writer = csv.writer(csv_file, delimiter=',')\n",
    "    for weekdate, empath in zip(tweets_df1.weekdate,output):\n",
    "        writer.writerow([weekdate,empath])\n",
    "        countrow += 1                 #\n",
    "        if(countrow == 100000):       #  Code snippet for keeping track on progress\n",
    "            print(100000 * countiter) #    Prints message on terminal with every \n",
    "            countiter += 1            #    100K tweets processed\n",
    "            countrow = 0              #    \n",
    "print(datetime.now()) "
   ]
  },
  {
   "cell_type": "code",
   "execution_count": 5,
   "id": "9c362771",
   "metadata": {},
   "outputs": [],
   "source": [
    "tweets_df1=tweets_df1.compute() # Final compute. aprox 40 min for US data\n",
    "tweets_df1['total'] = tweets_df1.groupby('weekdate')['tweet'].transform('count')"
   ]
  },
  {
   "cell_type": "code",
   "execution_count": 6,
   "id": "09c3666f",
   "metadata": {},
   "outputs": [],
   "source": [
    "# Grouping by weekdate and storing in new CSV\n",
    "tweets_grp = tweets_df1.groupby(['weekdate','sentiment','total']).size().reset_index(name='counts')\n",
    "tweets_grp.to_csv('vader_grouped.csv',header=True, index=False)"
   ]
  },
  {
   "cell_type": "code",
   "execution_count": null,
   "id": "7d24a4fd",
   "metadata": {},
   "outputs": [],
   "source": [
    "# Code block for grouping Empath data.\n",
    "# Runned in separate runtime. Otherwise proccess crashes (using too much local resources)\n",
    "\n",
    "def groupEmpath(col):\n",
    "    return str(dict(pd.DataFrame(col.tolist()).fillna(0).mean()))\n",
    "\n",
    "emp_df = pd.read_csv(abs_path+'/'+'AnalysisEmpath.csv',names=['weekdate','empadict'])\n",
    "emp_df['empadict'] = emp_df['empadict'].map(lambda x: json.loads(re.sub('\\'', '\"', x)))\n",
    "emp_grp = emp_df.groupby(['weekdate'])['empadict'].apply(groupEmpath).reset_index()\n",
    "\n",
    "emp_grp.to_csv('emp_grouped.csv',header=True, index=False)"
   ]
  },
  {
   "cell_type": "code",
   "execution_count": null,
   "id": "ccc73961",
   "metadata": {},
   "outputs": [],
   "source": [
    "# Code block for counting Empath data to determine which categories prevail over the others \n",
    "# Runned in separate runtime. Otherwise proccess crashes (using too much local resources)\n",
    "\n",
    "def groupEmpathCounts(col):\n",
    "    return str(dict(pd.DataFrame(col.tolist()).fillna(0).sum()))\n",
    "\n",
    "emp_df = pd.read_csv(abs_path+'/'+'AnalysisEmpath.csv',names=['weekdate','empadict'])\n",
    "emp_df['empadict'] = emp_df['empadict'].map(lambda x: re.sub('0\\.[0-9]+', '1', x))\n",
    "emp_df['empadict'] = emp_df['empadict'].map(lambda x: json.loads(re.sub('\\'', '\"', x)))\n",
    "emp_grp = emp_df.groupby(['weekdate'])['empadict'].apply(groupEmpathCounts).reset_index()\n",
    "emp_grp.to_csv('Results/emp_counts.csv',header=True, index=False)\n"
   ]
  }
 ],
 "metadata": {
  "kernelspec": {
   "display_name": "Python 3 (ipykernel)",
   "language": "python",
   "name": "python3"
  },
  "language_info": {
   "codemirror_mode": {
    "name": "ipython",
    "version": 3
   },
   "file_extension": ".py",
   "mimetype": "text/x-python",
   "name": "python",
   "nbconvert_exporter": "python",
   "pygments_lexer": "ipython3",
   "version": "3.9.7"
  }
 },
 "nbformat": 4,
 "nbformat_minor": 5
}
